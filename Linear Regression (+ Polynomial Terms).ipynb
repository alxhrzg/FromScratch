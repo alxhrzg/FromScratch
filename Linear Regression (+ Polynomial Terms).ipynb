{
 "cells": [
  {
   "cell_type": "markdown",
   "metadata": {},
   "source": [
    "# Linear Regression with Polynomial Terms\n",
    "Functional Forms for parametric models (Although this notebook only includes linear Regression with polynomial terms) \n",
    "\n",
    "* linear (linear): $y = a + b*x$\n",
    "* logarithmic (log): $y = a + b*log(x)$\n",
    "* exponential (exp): $y = a + eb*x$\n",
    "* power (pow): $y = a*xb$\n",
    "* quadratic (quad): $y = a + b*x + c*x2$\n",
    "* polynomial (poly): $y = a + b * x + … + k*xorder$\n"
   ]
  },
  {
   "cell_type": "code",
   "execution_count": 1,
   "metadata": {},
   "outputs": [],
   "source": [
    "import pandas as pd\n",
    "import numpy as np\n",
    "import matplotlib.pyplot as plt\n",
    "from sklearn.datasets import make_regression\n",
    "import matplotlib.pyplot as plt"
   ]
  },
  {
   "cell_type": "markdown",
   "metadata": {},
   "source": [
    "## Simple Implementation"
   ]
  },
  {
   "cell_type": "code",
   "execution_count": 2,
   "metadata": {
    "scrolled": true
   },
   "outputs": [],
   "source": [
    "X, y = make_regression(\n",
    "    n_samples=100, \n",
    "    n_features=1, \n",
    "    n_informative=10, \n",
    "    n_targets=1,\n",
    "    bias=100, \n",
    "    effective_rank=None, \n",
    "    tail_strength=0.5, \n",
    "    noise=10, \n",
    "    shuffle=True, \n",
    "    coef=False, \n",
    "    random_state=None\n",
    ")\n",
    "\n",
    "data = np.hstack((X, y.reshape(-1, 1)))"
   ]
  },
  {
   "cell_type": "code",
   "execution_count": 3,
   "metadata": {
    "scrolled": false
   },
   "outputs": [
    {
     "data": {
      "image/png": "[encoded data removed]",
      "text/plain": [
       "<Figure size 864x648 with 1 Axes>"
      ]
     },
     "metadata": {
      "needs_background": "light"
     },
     "output_type": "display_data"
    }
   ],
   "source": [
    "# Making the imports\n",
    "plt.rcParams['figure.figsize'] = (12.0, 9.0)\n",
    "\n",
    "# Preprocessing Input data\n",
    "X = data[:, 0]\n",
    "Y = data[:, 1]\n",
    "plt.scatter(X, Y)\n",
    "plt.show()\n",
    "\n"
   ]
  },
  {
   "cell_type": "markdown",
   "metadata": {},
   "source": [
    "## Own Implementation"
   ]
  },
  {
   "cell_type": "code",
   "execution_count": 4,
   "metadata": {},
   "outputs": [],
   "source": [
    "class LinearRegressionUnivariate():\n",
    "    def __init__(\n",
    "        self, \n",
    "        degree=1,\n",
    "        alpha=0.01, \n",
    "        tol=1e-2, \n",
    "        max_iter=1e5,\n",
    "        regularize=True,\n",
    "        reg_lambda = 0.01,\n",
    "        norm=\"L2\", \n",
    "        include_bias=True, \n",
    "        verbose=True, \n",
    "    ): \n",
    "        self.degree = degree\n",
    "        self.alpha = alpha \n",
    "        self.tol = tol\n",
    "        self.max_iter = max_iter\n",
    "        self.verbose = verbose\n",
    "        self.regularize = regularize\n",
    "        self.reg_lambda = reg_lambda\n",
    "        self.include_bias = include_bias\n",
    "        self.norm = norm \n",
    "        \n",
    "        \n",
    "    def fit(self, X, y):\n",
    "        # Degree + Bias\n",
    "        #theta = np.random.randn(self.degree + 1 if self.include_bias == True else self.degree)\n",
    "        self._norm_mapper = {\n",
    "            \"L1\": self.L1,\n",
    "            \"L2\": self.L2\n",
    "        }\n",
    "        self.mses = []\n",
    "        i = 1\n",
    "        scaled_X, theta, lrs = self._create_scaled_x_vec(X)\n",
    "        while True:\n",
    "            i += 1\n",
    "            y_hat = theta @ scaled_X\n",
    "            error = y_hat - y\n",
    "            \n",
    "            # Mutiply each row of X_scaled with the scalar of its \n",
    "            # Error (error-scaling) and divide the sum by N.\n",
    "            # -> error is a 1D vector for each x in X\n",
    "            # -> mutiply each row x of X with error\n",
    "            # -> divide by the number of samples in X\n",
    "            # -> take the sum for the error. The result is an error-vectors\n",
    "            #    with shape (1, len(x))\n",
    "            gradient = np.sum(\n",
    "                ((scaled_X.T * error.reshape(-1, 1)) / len(scaled_X)), \n",
    "                axis=0\n",
    "            )\n",
    "            new_theta = []\n",
    "            \n",
    "            for c in range(0, len(theta)):\n",
    "                #curr_alpha = self.alpha**(c + 1)\n",
    "                #update = curr_alpha * gradient[c]\n",
    "                update = lrs[c] * gradient[c]\n",
    "                curr_theta = theta[c] - update\n",
    "                new_theta.append(curr_theta) \n",
    "            \n",
    "            mse = self.MSE(y, y_hat)\n",
    "            self.mses.append(mse)\n",
    "            self.theta = theta = np.asarray(new_theta)\n",
    "            \n",
    "            if self.verbose == True: \n",
    "                if i % 10000 == 0: \n",
    "                    print(\"MSE at Iteration \\t {}: \\t{}\".format(i, mse))\n",
    "            \n",
    "            if i >= self.max_iter: \n",
    "                print(\"Stopping at Iteration: {}\".format(i))\n",
    "                break\n",
    "    \n",
    "    def predict(self, X): \n",
    "        scaled_X = self._create_scaled_x_vec(X, _return_thetas_lrs=False)\n",
    "        y_hat = self.theta @ scaled_X\n",
    "        return y_hat\n",
    "        \n",
    "    \n",
    "    def _create_scaled_x_vec(self, X, _return_thetas_lrs=True):\n",
    "        \"\"\"\n",
    "        Arguments\n",
    "        =========\n",
    "        X: Array\n",
    "            1-D array with the values for x\n",
    "        Returns\n",
    "        =======\n",
    "        A 2-D vector with the scaling operations applied where the columns\n",
    "        are x scaled by the degree of the polynomial \n",
    "        \"\"\"\n",
    "        assert X.ndim == 1\n",
    "        \n",
    "        ###################\n",
    "        # Polynomial Part #\n",
    "        ###################\n",
    "        \n",
    "        n_terms = self.degree + 1 if self.include_bias == True else self.degree\n",
    "        \n",
    "        x_scaled = np.vstack(((X.ravel()**n) for n in range(1, self.degree + 1))).T\n",
    "        # Fist column is going to be the bias-term with only ones\n",
    "        if self.include_bias == True: \n",
    "            x_scaled = np.c_[np.ones(x_scaled.shape[0]), x_scaled]\n",
    "        \n",
    "        thetas = np.zeros(n_terms)\n",
    "        lrs = [self.alpha**(c + 1) for c in range(n_terms)]\n",
    "        \n",
    "        \n",
    "        ##########\n",
    "        # Return #\n",
    "        ##########\n",
    "        \n",
    "        if _return_thetas_lrs == True:  \n",
    "            return x_scaled.T, thetas, lrs\n",
    "        return x_scaled.T\n",
    "    \n",
    "\n",
    "    def L1(self, theta): \n",
    "        return np.sum(np.abs(theta))\n",
    "    \n",
    "    def L2(self, theta): \n",
    "        return np.asarray(theta) @ np.asarray(theta).T\n",
    "    \n",
    "    def MSE(self, y, y_hat):\n",
    "        return sum((y_hat - y)**2)/len(y)"
   ]
  },
  {
   "cell_type": "code",
   "execution_count": 5,
   "metadata": {
    "scrolled": true
   },
   "outputs": [
    {
     "name": "stderr",
     "output_type": "stream",
     "text": [
      "/home/alexander/mlactive/lib/python3.6/site-packages/ipykernel_launcher.py:97: FutureWarning: arrays to stack must be passed as a \"sequence\" type such as list or tuple. Support for non-sequence iterables such as generators is deprecated as of NumPy 1.16 and will raise an error in the future.\n"
     ]
    },
    {
     "name": "stdout",
     "output_type": "stream",
     "text": [
      "MSE at Iteration \t 10000: \t101.03742222939408\n",
      "MSE at Iteration \t 20000: \t100.42602171098203\n",
      "MSE at Iteration \t 30000: \t100.27937151863182\n",
      "MSE at Iteration \t 40000: \t100.18758110247914\n",
      "MSE at Iteration \t 50000: \t100.12020781099416\n",
      "MSE at Iteration \t 60000: \t100.06935390547196\n",
      "MSE at Iteration \t 70000: \t100.03015320786744\n",
      "MSE at Iteration \t 80000: \t99.99920426670637\n",
      "MSE at Iteration \t 90000: \t99.9741051247855\n",
      "MSE at Iteration \t 100000: \t99.9531582746594\n",
      "Stopping at Iteration: 100000\n"
     ]
    }
   ],
   "source": [
    "#Choosing the Degree extra high; we are only trying to fit a line with an intercept here!\n",
    "lin_reg = LinearRegressionUnivariate(verbose=True, degree=12, alpha=0.11)\n",
    "lin_reg.fit(X, Y)"
   ]
  },
  {
   "cell_type": "code",
   "execution_count": 6,
   "metadata": {},
   "outputs": [
    {
     "name": "stderr",
     "output_type": "stream",
     "text": [
      "/home/alexander/mlactive/lib/python3.6/site-packages/ipykernel_launcher.py:97: FutureWarning: arrays to stack must be passed as a \"sequence\" type such as list or tuple. Support for non-sequence iterables such as generators is deprecated as of NumPy 1.16 and will raise an error in the future.\n"
     ]
    },
    {
     "data": {
      "text/plain": [
       "<matplotlib.collections.PathCollection at 0x7f9e2550def0>"
      ]
     },
     "execution_count": 6,
     "metadata": {},
     "output_type": "execute_result"
    },
    {
     "data": {
      "image/png": "[encoded data removed]",
      "text/plain": [
       "<Figure size 864x648 with 1 Axes>"
      ]
     },
     "metadata": {
      "needs_background": "light"
     },
     "output_type": "display_data"
    }
   ],
   "source": [
    "X_pred = lin_reg.predict(X)\n",
    "plt.scatter(X, y)\n",
    "plt.scatter(X, X_pred)"
   ]
  },
  {
   "cell_type": "markdown",
   "metadata": {},
   "source": [
    "### Fitting a Polynomial"
   ]
  },
  {
   "cell_type": "code",
   "execution_count": 7,
   "metadata": {},
   "outputs": [
    {
     "data": {
      "text/plain": [
       "<matplotlib.collections.PathCollection at 0x7f9e252a34a8>"
      ]
     },
     "execution_count": 7,
     "metadata": {},
     "output_type": "execute_result"
    },
    {
     "data": {
      "image/png": "[encoded data removed]",
      "text/plain": [
       "<Figure size 864x648 with 1 Axes>"
      ]
     },
     "metadata": {
      "needs_background": "light"
     },
     "output_type": "display_data"
    }
   ],
   "source": [
    "f = lambda x: x**4 - 3*x**2 + 2*x**2 - 8*x * 10\n",
    "X = np.linspace(-3, 5, 500)\n",
    "y = np.asarray(list(map(f, X)))\n",
    "y = y + np.random.uniform(low=-30, high=30, size=(len(y),))\n",
    "plt.scatter(X, y, s=0.1)"
   ]
  },
  {
   "cell_type": "code",
   "execution_count": 8,
   "metadata": {
    "scrolled": true
   },
   "outputs": [
    {
     "name": "stderr",
     "output_type": "stream",
     "text": [
      "/home/alexander/mlactive/lib/python3.6/site-packages/ipykernel_launcher.py:97: FutureWarning: arrays to stack must be passed as a \"sequence\" type such as list or tuple. Support for non-sequence iterables such as generators is deprecated as of NumPy 1.16 and will raise an error in the future.\n"
     ]
    },
    {
     "name": "stdout",
     "output_type": "stream",
     "text": [
      "MSE at Iteration \t 10000: \t2437.3428230557406\n",
      "MSE at Iteration \t 20000: \t1949.5359627588532\n",
      "MSE at Iteration \t 30000: \t1600.1109081292677\n",
      "MSE at Iteration \t 40000: \t1349.7782768755708\n",
      "MSE at Iteration \t 50000: \t1170.4037676745977\n",
      "MSE at Iteration \t 60000: \t1041.8409983197569\n",
      "MSE at Iteration \t 70000: \t949.6635676600822\n",
      "MSE at Iteration \t 80000: \t883.5410328035321\n",
      "MSE at Iteration \t 90000: \t836.0759805125476\n",
      "MSE at Iteration \t 100000: \t801.9712784631632\n",
      "Stopping at Iteration: 100000\n"
     ]
    }
   ],
   "source": [
    "lin_reg = LinearRegressionUnivariate(\n",
    "    degree=4, \n",
    "    verbose=True, \n",
    "    alpha=0.001,\n",
    "    max_iter=1e5,\n",
    "    include_bias=False\n",
    ")\n",
    "lin_reg.fit(X, y)"
   ]
  },
  {
   "cell_type": "code",
   "execution_count": 9,
   "metadata": {},
   "outputs": [
    {
     "name": "stderr",
     "output_type": "stream",
     "text": [
      "/home/alexander/mlactive/lib/python3.6/site-packages/ipykernel_launcher.py:97: FutureWarning: arrays to stack must be passed as a \"sequence\" type such as list or tuple. Support for non-sequence iterables such as generators is deprecated as of NumPy 1.16 and will raise an error in the future.\n"
     ]
    },
    {
     "data": {
      "text/plain": [
       "[<matplotlib.lines.Line2D at 0x7f9e252dbeb8>]"
      ]
     },
     "execution_count": 9,
     "metadata": {},
     "output_type": "execute_result"
    },
    {
     "data": {
      "image/png": "[encoded data removed]",
      "text/plain": [
       "<Figure size 864x648 with 1 Axes>"
      ]
     },
     "metadata": {
      "needs_background": "light"
     },
     "output_type": "display_data"
    }
   ],
   "source": [
    "X_pred = lin_reg.predict(X)\n",
    "plt.scatter(X, y, s=0.1)\n",
    "plt.plot(X, X_pred, c=\"r\")"
   ]
  }
 ],
 "metadata": {
  "kernelspec": {
   "display_name": "Python 3.6.7 64-bit ('mlactive': virtualenv)",
   "language": "python",
   "name": "python36764bitmlactivevirtualenv86d7a065305d436f95945d242016982a"
  },
  "language_info": {
   "codemirror_mode": {
    "name": "ipython",
    "version": 3
   },
   "file_extension": ".py",
   "mimetype": "text/x-python",
   "name": "python",
   "nbconvert_exporter": "python",
   "pygments_lexer": "ipython3",
   "version": "3.6.7"
  }
 },
 "nbformat": 4,
 "nbformat_minor": 2
}
