{
 "cells": [
  {
   "cell_type": "code",
   "execution_count": 1,
   "metadata": {},
   "outputs": [],
   "source": [
    "import pandas as pd \n",
    "import numpy as np \n",
    "from sklearn.datasets import make_blobs\n",
    "from sklearn.metrics import accuracy_score\n",
    "import matplotlib.pyplot as plt"
   ]
  },
  {
   "cell_type": "code",
   "execution_count": 2,
   "metadata": {},
   "outputs": [],
   "source": [
    "centers = [[1, 1], [1, -2]]\n",
    "X, labels_true = make_blobs(\n",
    "    n_samples=750, \n",
    "    centers=centers, \n",
    "    cluster_std=0.4,\n",
    "    random_state=0\n",
    ")"
   ]
  },
  {
   "cell_type": "code",
   "execution_count": 3,
   "metadata": {},
   "outputs": [
    {
     "data": {
      "text/plain": [
       "<matplotlib.collections.PathCollection at 0x7f6fe74535c0>"
      ]
     },
     "execution_count": 3,
     "metadata": {},
     "output_type": "execute_result"
    },
    {
     "data": {
      "image/png": "[encoded data removed]",
      "text/plain": [
       "<Figure size 432x288 with 1 Axes>"
      ]
     },
     "metadata": {
      "needs_background": "light"
     },
     "output_type": "display_data"
    }
   ],
   "source": [
    "plt.scatter(X[:,0], X[:,1])"
   ]
  },
  {
   "cell_type": "markdown",
   "metadata": {},
   "source": [
    "## Logistic Regression\n",
    "\n",
    "For optimizing, the following form for the first derivative is being used ([source](https://www.youtube.com/watch?v=KIhPtHOfbhQ&t=533s)]: \n",
    "\n",
    "$$\\frac{1}{N}\\sum_{i = 1}^{N}{x_i \\cdot (1 - \\frac{e^{-\\omega^{T}x_i}}{1 + e^{-\\omega^{T}x_i}}) - y_i}$$\n",
    "\n",
    "which is equivalent to: \n",
    "\n",
    "$$\\frac{1}{N}\\sum_{i = 1}^{N}{x_i \\cdot p(y_i = 1 | x_i; \\omega) - y_i}$$"
   ]
  },
  {
   "cell_type": "code",
   "execution_count": 4,
   "metadata": {},
   "outputs": [],
   "source": [
    "class LogisticRegression(): \n",
    "    def __init__(\n",
    "        self, \n",
    "        alpha = 0.01, \n",
    "        add_bias=True,\n",
    "        verbose=True, \n",
    "        n_iterations = 1000\n",
    "    ): \n",
    "        self.alpha = alpha\n",
    "        self.add_bias = add_bias\n",
    "        self.verbose = verbose\n",
    "        self.n_iterations = n_iterations\n",
    "        \n",
    "        # Internals \n",
    "        self._fitted = False\n",
    "    \n",
    "    \n",
    "    def fit(self, X, y):\n",
    "        X, self.omega = self._parametrize_transform(X)\n",
    "        i = 0\n",
    "        try: \n",
    "            while True:\n",
    "                i += 1\n",
    "                # Gradient Descent\n",
    "                gradient = self._calc_gradient(X, y, self.omega)\n",
    "                self.omega  = self.omega - self.alpha * gradient\n",
    "                \n",
    "                # Stats\n",
    "                self._skip_scaling = True\n",
    "                predictions = self.predict(X)\n",
    "                self._skip_scaling = False\n",
    "                \n",
    "                acc = accuracy_score(predictions, y)\n",
    "                \n",
    "                if i % 100 == True: \n",
    "                    if self.verbose == True: \n",
    "                        print(\"Accuracy for iteration {}: {}\".format(i, acc))\n",
    "                if i >= self.n_iterations: \n",
    "                    break\n",
    "                 \n",
    "        except KeyboardInterrupt: \n",
    "            self._fitted = True\n",
    "            return self\n",
    "\n",
    "        self._fitted = True\n",
    "        return self\n",
    "    \n",
    "    def predict_proba(self, X): \n",
    "        if self._skip_scaling == False: \n",
    "            if not self._fitted: \n",
    "                raise Exception(\"Must fit first!\")\n",
    "            X, _ = self._parametrize_transform(X) \n",
    "            return np.asarray([self.sigmoid(self.omega, x) for x in X])\n",
    "        else:\n",
    "            return np.asarray([self.sigmoid(self.omega, x) for x in X])\n",
    "    \n",
    "    def predict(self, X): \n",
    "        ######################\n",
    "        # Super weird bug !! #\n",
    "        ######################\n",
    "        # The predictions seem to be inverted perfectly, \n",
    "        # all 0 are predicted as 1 and vice versa! \n",
    "        # The following should be correct:\n",
    "        #return (self.predict_proba(X) >= 0.5).astype(int)\n",
    "        # Instead this works: \n",
    "        return (self.predict_proba(X) < 0.5).astype(int)\n",
    "    \n",
    "    ######################\n",
    "    # Internal Functions #\n",
    "    ######################\n",
    "    \n",
    "    def sigmoid(self, omega, x): \n",
    "        return 1/(1 + np.exp(-omega.T @ x))\n",
    "    \n",
    "    def _parametrize_transform(self, X):\n",
    "        assert X.ndim == 2\n",
    "        if self.add_bias: \n",
    "            X = np.c_[np.ones(X.shape[0]), X]\n",
    "        omega = np.zeros(X.shape[1])\n",
    "        return X, omega \n",
    "    \n",
    "    def _p_positive(self, x, omega): \n",
    "        numerator = np.exp(-omega.T @ x)\n",
    "        denominator = 1 + numerator \n",
    "        return 1 - (numerator/denominator)\n",
    "    \n",
    "    def _calc_gradient(self, X, y, omega):\n",
    "        for i, x_y_ in enumerate(zip(X, y)):\n",
    "            x, y_ = x_y_\n",
    "            curr_gradient = (x * self._p_positive(x, omega)) - y_\n",
    "            if i == 0: \n",
    "                result = curr_gradient\n",
    "            else: \n",
    "                result = np.vstack((result, curr_gradient))\n",
    "        \n",
    "        gradient = np.sum(np.asarray(result), axis=0) / len(X)\n",
    "        assert gradient.shape == (X.shape[1],)\n",
    "        return gradient\n"
   ]
  },
  {
   "cell_type": "markdown",
   "metadata": {},
   "source": [
    "## Fit, Predict and Evaluate "
   ]
  },
  {
   "cell_type": "code",
   "execution_count": 5,
   "metadata": {
    "scrolled": true
   },
   "outputs": [
    {
     "name": "stdout",
     "output_type": "stream",
     "text": [
      "Accuracy for iteration 1: 0.992\n"
     ]
    },
    {
     "data": {
      "text/plain": [
       "<__main__.LogisticRegression at 0x7f70285b9e80>"
      ]
     },
     "execution_count": 5,
     "metadata": {},
     "output_type": "execute_result"
    }
   ],
   "source": [
    "log_reg = LogisticRegression(alpha=0.1, n_iterations=100)\n",
    "log_reg.fit(X, labels_true)"
   ]
  },
  {
   "cell_type": "code",
   "execution_count": 6,
   "metadata": {},
   "outputs": [
    {
     "data": {
      "image/png": "[encoded data removed]",
      "text/plain": [
       "<Figure size 432x288 with 1 Axes>"
      ]
     },
     "metadata": {
      "needs_background": "light"
     },
     "output_type": "display_data"
    }
   ],
   "source": [
    "preds = log_reg.predict(X)\n",
    "for i in set(preds): \n",
    "    curr_X = X[preds == i]\n",
    "    plt.scatter(curr_X[:,0], curr_X[:,1])"
   ]
  }
 ],
 "metadata": {
  "kernelspec": {
   "display_name": "Python 3",
   "language": "python",
   "name": "python3"
  },
  "language_info": {
   "codemirror_mode": {
    "name": "ipython",
    "version": 3
   },
   "file_extension": ".py",
   "mimetype": "text/x-python",
   "name": "python",
   "nbconvert_exporter": "python",
   "pygments_lexer": "ipython3",
   "version": "3.6.7"
  }
 },
 "nbformat": 4,
 "nbformat_minor": 2
}
